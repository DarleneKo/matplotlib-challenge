{
 "cells": [
  {
   "cell_type": "markdown",
   "metadata": {},
   "source": [
    "## Observations and Insights"
   ]
  },
  {
   "cell_type": "markdown",
   "metadata": {},
   "source": [
    "In a recent animal study, there were 249 mice tested to screen for potential treatments for squamous cell carinoma (SCC), a commonly occuring form of skin cancer.  Over the course of 45 days, tumor development was observed and measured to compare the peformance of Pymaceuticals Inc.'s drug of interest, Capomulin versus the other nine treatment regimens.  The following observations were made:\n",
    "\n",
    "1) After calculating a summary statistics table of mean, median, variance, standard deviation, and SEM of the tumor volume for each regimen, it appears that Ramicane slightly outperformed Capomulin because it statistically had the lowest values for each of the statistical measures. In other words, Ramicane was more effective of reducing the size of the tumors in the subject mice. Ramicane and Capomulin were the most successful drugs and Ketapril was the least successful.\n",
    "\n",
    "2) After plotting bar charts to display the number of data points per Drug Regimen, it appears that Capomulin and Ramicane were the two most tested drugs with 230 and 228 data points, respectively.  Propriva was the least tested with only 161 data points.  The remaining seven drugs were evenly tested with an average of 182 data points.\n",
    "\n",
    "3) There was a near identical number of male and female mice tested with 50.2% males and 49.8% females.  However, further analysis would need to be conducted in order to determine if gender played a role in the success of each treatment regimen.\n",
    "\n",
    "4) The boxplots visually confirmed that out of the four promising drug regimens (Capomulin, Ramicane, Infubinol, and Ceftamin), Ramicane followed by Capumolin had the most successful outcomes with the median tumor volume of 36.56 mm3 and 38.13 mm3, respectively.  Infubinol was the only drug out of the four with an outlier.\n",
    "\n",
    "5) After charting a line graph observing how the Capomulin drug impacted one mouse (l509) over the entire 45 days, it appears that the mouse had the highest tumor volume of 48.07 mm3 at 20 days and the highest tumor volume of 40.21 mm3 at 35 days.  At the end of the 45-day study, this particular mouse had a final tumor volume of 41 mm3.  Generally-speaking, the longer the mouse was being treated with the Capomulin drug, the tumor volume reduced in size.\n",
    "\n",
    "6) The Correlation (R) between Mouse Weight and the Average Tumor Volume is 0.84 which indicates a strong correlation.  Generally, a value of r greater than 0.7 is considered a strong correlation. Therefore, the more that the mice weighed, then the higher their average tumor volume grows in size."
   ]
  },
  {
   "cell_type": "markdown",
   "metadata": {},
   "source": [
    "## Dependencies and starter code"
   ]
  },
  {
   "cell_type": "code",
   "execution_count": 1,
   "metadata": {},
   "outputs": [
    {
     "data": {
      "text/html": [
       "<div>\n",
       "<style scoped>\n",
       "    .dataframe tbody tr th:only-of-type {\n",
       "        vertical-align: middle;\n",
       "    }\n",
       "\n",
       "    .dataframe tbody tr th {\n",
       "        vertical-align: top;\n",
       "    }\n",
       "\n",
       "    .dataframe thead th {\n",
       "        text-align: right;\n",
       "    }\n",
       "</style>\n",
       "<table border=\"1\" class=\"dataframe\">\n",
       "  <thead>\n",
       "    <tr style=\"text-align: right;\">\n",
       "      <th></th>\n",
       "      <th>Mouse ID</th>\n",
       "      <th>Timepoint</th>\n",
       "      <th>Tumor Volume (mm3)</th>\n",
       "      <th>Metastatic Sites</th>\n",
       "      <th>Drug Regimen</th>\n",
       "      <th>Sex</th>\n",
       "      <th>Age_months</th>\n",
       "      <th>Weight (g)</th>\n",
       "    </tr>\n",
       "  </thead>\n",
       "  <tbody>\n",
       "    <tr>\n",
       "      <td>0</td>\n",
       "      <td>b128</td>\n",
       "      <td>0</td>\n",
       "      <td>45.0</td>\n",
       "      <td>0</td>\n",
       "      <td>Capomulin</td>\n",
       "      <td>Female</td>\n",
       "      <td>9</td>\n",
       "      <td>22</td>\n",
       "    </tr>\n",
       "    <tr>\n",
       "      <td>1</td>\n",
       "      <td>f932</td>\n",
       "      <td>0</td>\n",
       "      <td>45.0</td>\n",
       "      <td>0</td>\n",
       "      <td>Ketapril</td>\n",
       "      <td>Male</td>\n",
       "      <td>15</td>\n",
       "      <td>29</td>\n",
       "    </tr>\n",
       "    <tr>\n",
       "      <td>2</td>\n",
       "      <td>g107</td>\n",
       "      <td>0</td>\n",
       "      <td>45.0</td>\n",
       "      <td>0</td>\n",
       "      <td>Ketapril</td>\n",
       "      <td>Female</td>\n",
       "      <td>2</td>\n",
       "      <td>29</td>\n",
       "    </tr>\n",
       "    <tr>\n",
       "      <td>3</td>\n",
       "      <td>a457</td>\n",
       "      <td>0</td>\n",
       "      <td>45.0</td>\n",
       "      <td>0</td>\n",
       "      <td>Ketapril</td>\n",
       "      <td>Female</td>\n",
       "      <td>11</td>\n",
       "      <td>30</td>\n",
       "    </tr>\n",
       "    <tr>\n",
       "      <td>4</td>\n",
       "      <td>c819</td>\n",
       "      <td>0</td>\n",
       "      <td>45.0</td>\n",
       "      <td>0</td>\n",
       "      <td>Ketapril</td>\n",
       "      <td>Male</td>\n",
       "      <td>21</td>\n",
       "      <td>25</td>\n",
       "    </tr>\n",
       "  </tbody>\n",
       "</table>\n",
       "</div>"
      ],
      "text/plain": [
       "  Mouse ID  Timepoint  Tumor Volume (mm3)  Metastatic Sites Drug Regimen  \\\n",
       "0     b128          0                45.0                 0    Capomulin   \n",
       "1     f932          0                45.0                 0     Ketapril   \n",
       "2     g107          0                45.0                 0     Ketapril   \n",
       "3     a457          0                45.0                 0     Ketapril   \n",
       "4     c819          0                45.0                 0     Ketapril   \n",
       "\n",
       "      Sex  Age_months  Weight (g)  \n",
       "0  Female           9          22  \n",
       "1    Male          15          29  \n",
       "2  Female           2          29  \n",
       "3  Female          11          30  \n",
       "4    Male          21          25  "
      ]
     },
     "execution_count": 1,
     "metadata": {},
     "output_type": "execute_result"
    }
   ],
   "source": [
    "# Dependencies and Setup\n",
    "import matplotlib.pyplot as plt\n",
    "import numpy as np\n",
    "import pandas as pd\n",
    "import scipy.stats as stats\n",
    "\n",
    "# Study data files\n",
    "mouse_metadata = \"data/Mouse_metadata.csv\"\n",
    "study_results = \"data/Study_results.csv\"\n",
    "\n",
    "# Read the mouse data and the study results\n",
    "mouse_metadata = pd.read_csv(mouse_metadata)\n",
    "study_results = pd.read_csv(study_results)\n",
    "\n",
    "# Combine the data into a single dataset\n",
    "combined_data = pd.merge(study_results, mouse_metadata, how='left', on='Mouse ID')\n",
    "combined_data.head()"
   ]
  },
  {
   "cell_type": "markdown",
   "metadata": {},
   "source": [
    "## Summary statistics"
   ]
  },
  {
   "cell_type": "code",
   "execution_count": 2,
   "metadata": {},
   "outputs": [
    {
     "data": {
      "text/html": [
       "<div>\n",
       "<style scoped>\n",
       "    .dataframe tbody tr th:only-of-type {\n",
       "        vertical-align: middle;\n",
       "    }\n",
       "\n",
       "    .dataframe tbody tr th {\n",
       "        vertical-align: top;\n",
       "    }\n",
       "\n",
       "    .dataframe thead th {\n",
       "        text-align: right;\n",
       "    }\n",
       "</style>\n",
       "<table border=\"1\" class=\"dataframe\">\n",
       "  <thead>\n",
       "    <tr style=\"text-align: right;\">\n",
       "      <th></th>\n",
       "      <th>Mean Tumor Volume</th>\n",
       "      <th>Median Tumor Volume</th>\n",
       "      <th>Tumor Volume Variance</th>\n",
       "      <th>Tumor Volume Std. Dev.</th>\n",
       "      <th>Tumor Volume Std. Error</th>\n",
       "    </tr>\n",
       "    <tr>\n",
       "      <th>Drug Regimen</th>\n",
       "      <th></th>\n",
       "      <th></th>\n",
       "      <th></th>\n",
       "      <th></th>\n",
       "      <th></th>\n",
       "    </tr>\n",
       "  </thead>\n",
       "  <tbody>\n",
       "    <tr>\n",
       "      <td>Capomulin</td>\n",
       "      <td>40.675741</td>\n",
       "      <td>41.557809</td>\n",
       "      <td>24.947764</td>\n",
       "      <td>4.994774</td>\n",
       "      <td>0.329346</td>\n",
       "    </tr>\n",
       "    <tr>\n",
       "      <td>Ceftamin</td>\n",
       "      <td>52.591172</td>\n",
       "      <td>51.776157</td>\n",
       "      <td>39.290177</td>\n",
       "      <td>6.268188</td>\n",
       "      <td>0.469821</td>\n",
       "    </tr>\n",
       "    <tr>\n",
       "      <td>Infubinol</td>\n",
       "      <td>52.884795</td>\n",
       "      <td>51.820584</td>\n",
       "      <td>43.128684</td>\n",
       "      <td>6.567243</td>\n",
       "      <td>0.492236</td>\n",
       "    </tr>\n",
       "    <tr>\n",
       "      <td>Ketapril</td>\n",
       "      <td>55.235638</td>\n",
       "      <td>53.698743</td>\n",
       "      <td>68.553577</td>\n",
       "      <td>8.279709</td>\n",
       "      <td>0.603860</td>\n",
       "    </tr>\n",
       "    <tr>\n",
       "      <td>Naftisol</td>\n",
       "      <td>54.331565</td>\n",
       "      <td>52.509285</td>\n",
       "      <td>66.173479</td>\n",
       "      <td>8.134708</td>\n",
       "      <td>0.596466</td>\n",
       "    </tr>\n",
       "    <tr>\n",
       "      <td>Placebo</td>\n",
       "      <td>54.033581</td>\n",
       "      <td>52.288934</td>\n",
       "      <td>61.168083</td>\n",
       "      <td>7.821003</td>\n",
       "      <td>0.581331</td>\n",
       "    </tr>\n",
       "    <tr>\n",
       "      <td>Propriva</td>\n",
       "      <td>52.322552</td>\n",
       "      <td>50.854632</td>\n",
       "      <td>42.351070</td>\n",
       "      <td>6.507770</td>\n",
       "      <td>0.512884</td>\n",
       "    </tr>\n",
       "    <tr>\n",
       "      <td>Ramicane</td>\n",
       "      <td>40.216745</td>\n",
       "      <td>40.673236</td>\n",
       "      <td>23.486704</td>\n",
       "      <td>4.846308</td>\n",
       "      <td>0.320955</td>\n",
       "    </tr>\n",
       "    <tr>\n",
       "      <td>Stelasyn</td>\n",
       "      <td>54.233149</td>\n",
       "      <td>52.431737</td>\n",
       "      <td>59.450562</td>\n",
       "      <td>7.710419</td>\n",
       "      <td>0.573111</td>\n",
       "    </tr>\n",
       "    <tr>\n",
       "      <td>Zoniferol</td>\n",
       "      <td>53.236507</td>\n",
       "      <td>51.818479</td>\n",
       "      <td>48.533355</td>\n",
       "      <td>6.966589</td>\n",
       "      <td>0.516398</td>\n",
       "    </tr>\n",
       "  </tbody>\n",
       "</table>\n",
       "</div>"
      ],
      "text/plain": [
       "              Mean Tumor Volume  Median Tumor Volume  Tumor Volume Variance  \\\n",
       "Drug Regimen                                                                  \n",
       "Capomulin             40.675741            41.557809              24.947764   \n",
       "Ceftamin              52.591172            51.776157              39.290177   \n",
       "Infubinol             52.884795            51.820584              43.128684   \n",
       "Ketapril              55.235638            53.698743              68.553577   \n",
       "Naftisol              54.331565            52.509285              66.173479   \n",
       "Placebo               54.033581            52.288934              61.168083   \n",
       "Propriva              52.322552            50.854632              42.351070   \n",
       "Ramicane              40.216745            40.673236              23.486704   \n",
       "Stelasyn              54.233149            52.431737              59.450562   \n",
       "Zoniferol             53.236507            51.818479              48.533355   \n",
       "\n",
       "              Tumor Volume Std. Dev.  Tumor Volume Std. Error  \n",
       "Drug Regimen                                                   \n",
       "Capomulin                   4.994774                 0.329346  \n",
       "Ceftamin                    6.268188                 0.469821  \n",
       "Infubinol                   6.567243                 0.492236  \n",
       "Ketapril                    8.279709                 0.603860  \n",
       "Naftisol                    8.134708                 0.596466  \n",
       "Placebo                     7.821003                 0.581331  \n",
       "Propriva                    6.507770                 0.512884  \n",
       "Ramicane                    4.846308                 0.320955  \n",
       "Stelasyn                    7.710419                 0.573111  \n",
       "Zoniferol                   6.966589                 0.516398  "
      ]
     },
     "execution_count": 2,
     "metadata": {},
     "output_type": "execute_result"
    }
   ],
   "source": [
    "# Generate a summary statistics table of mean, median, variance, standard deviation, and SEM of the tumor volume for each regimen\n",
    "\n",
    "# Grouped the combined data set by Drug Regimen\n",
    "grouped_tumor_data = combined_data.groupby([\"Drug Regimen\"])[\"Tumor Volume (mm3)\"]\n",
    "\n",
    "# Calculate the summary statistics\n",
    "mean_tumor_volume = grouped_tumor_data.mean()\n",
    "median_tumor_volume = grouped_tumor_data.median()\n",
    "variance_tumor_volume = grouped_tumor_data.var()\n",
    "std_deviation_tumor_volume = grouped_tumor_data.std()\n",
    "std_error_tumor_volume = grouped_tumor_data.sem()\n",
    "\n",
    "# Create a data frame for the summary statistics\n",
    "summary_statistics = pd.DataFrame({\"Mean Tumor Volume\": mean_tumor_volume,\n",
    "                                  \"Median Tumor Volume\": median_tumor_volume,\n",
    "                                  \"Tumor Volume Variance\": variance_tumor_volume,\n",
    "                                  \"Tumor Volume Std. Dev.\": std_deviation_tumor_volume,\n",
    "                                  \"Tumor Volume Std. Error\": std_error_tumor_volume})\n",
    "\n",
    "# Print the summary statistics\n",
    "summary_statistics"
   ]
  },
  {
   "cell_type": "markdown",
   "metadata": {},
   "source": [
    "## Bar plots"
   ]
  },
  {
   "cell_type": "code",
   "execution_count": 19,
   "metadata": {},
   "outputs": [
    {
     "data": {
      "image/png": "[encoded data removed]",
      "text/plain": [
       "<Figure size 720x288 with 1 Axes>"
      ]
     },
     "metadata": {
      "needs_background": "light"
     },
     "output_type": "display_data"
    }
   ],
   "source": [
    "# Generate a bar plot showing number of data points for each treatment regimen using pandas\n",
    "\n",
    "# Count the number of data points per Drug Regimen \n",
    "bar_chart_data = grouped_tumor_data.count()\n",
    "\n",
    "# Sort the number of data points per Drug Regimen in descending order\n",
    "bar_chart_sorted = bar_chart_data.sort_values(ascending=False)\n",
    "\n",
    "# Create and print the bar plot using pandas\n",
    "bar_chart_sorted.plot(kind=\"bar\", figsize=(10, 4))\n",
    "plt.ylabel(\"Number of Data Points\")\n",
    "plt.title(\"Number of Data Points per Drug Regimen using Pandas\")\n",
    "plt.tight_layout()\n",
    "plt.show()"
   ]
  },
  {
   "cell_type": "code",
   "execution_count": 20,
   "metadata": {},
   "outputs": [
    {
     "data": {
      "image/png": "[encoded data removed]",
      "text/plain": [
       "<Figure size 720x288 with 1 Axes>"
      ]
     },
     "metadata": {
      "needs_background": "light"
     },
     "output_type": "display_data"
    }
   ],
   "source": [
    "# Generate a bar plot showing number of data points for each treatment regimen using pyplot\n",
    "\n",
    "# Set the x-axis to the Drug Regimens and define the tick locations \n",
    "x_axis = np.arange(len(bar_chart_data))\n",
    "tick_locations = [value for value in x_axis]\n",
    "\n",
    "plt.figure(figsize=(10,4))\n",
    "plt.bar(x_axis, bar_chart_sorted, color='b', alpha=0.5, align=\"center\")\n",
    "plt.xticks(tick_locations, bar_chart_sorted.keys(), rotation=\"vertical\")\n",
    "\n",
    "plt.xlabel(\"Drug Regimen\")\n",
    "plt.ylabel(\"Number of Data Points\")\n",
    "plt.title(\"Number of Data Points per Drug Regimen using Pyplot\")\n",
    "plt.tight_layout()"
   ]
  },
  {
   "cell_type": "markdown",
   "metadata": {},
   "source": [
    "## Pie plots"
   ]
  },
  {
   "cell_type": "code",
   "execution_count": 21,
   "metadata": {},
   "outputs": [
    {
     "data": {
      "image/png": "[encoded data removed]",
      "text/plain": [
       "<Figure size 432x288 with 1 Axes>"
      ]
     },
     "metadata": {},
     "output_type": "display_data"
    }
   ],
   "source": [
    "# Generate a pie plot showing the distribution of female versus male mice using pandas\n",
    "\n",
    "# Group the combined data by Sex\n",
    "grouped_gender_data = combined_data.groupby([\"Sex\"])\n",
    "\n",
    "# Count the number of unique mice by gender\n",
    "gender_count = grouped_gender_data.nunique()[\"Mouse ID\"]\n",
    "\n",
    "# Create and print a pie plot by gender using pandas\n",
    "gender_count.plot.pie(y=\"Sex\", autopct=\"%1.1f%%\", legend=None, startangle=180)\n",
    "plt.ylabel(\"Sex\")\n",
    "plt.title(\"Distribution of Female versus Male Mice using Pandas\")\n",
    "plt.tight_layout()\n",
    "plt.show()"
   ]
  },
  {
   "cell_type": "code",
   "execution_count": 8,
   "metadata": {},
   "outputs": [
    {
     "data": {
      "image/png": "[encoded data removed]",
      "text/plain": [
       "<Figure size 432x288 with 1 Axes>"
      ]
     },
     "metadata": {},
     "output_type": "display_data"
    }
   ],
   "source": [
    "# Generate a pie plot showing the distribution of female versus male mice using pyplot\n",
    "\n",
    "gender_labels = [\"Female\", \"Male\"]\n",
    "plt.pie(gender_count, labels=gender_labels, autopct=\"%1.1f%%\", startangle=180)\n",
    "plt.ylabel(\"Sex\")\n",
    "plt.title(\"Distribution of Female versus Male Mice using Matplotlib\")\n",
    "plt.tight_layout()\n",
    "plt.show()"
   ]
  },
  {
   "cell_type": "markdown",
   "metadata": {},
   "source": [
    "## Quartiles, outliers and boxplots"
   ]
  },
  {
   "cell_type": "code",
   "execution_count": 28,
   "metadata": {},
   "outputs": [
    {
     "name": "stdout",
     "output_type": "stream",
     "text": [
      "The lower quartile of Capomulin is: 32.38\n",
      "The upper quartile of Capomulin is: 40.16\n",
      "The interquartile range of Capomulin: 7.78\n",
      "The median of Capomulin is: 38.13 \n",
      "Capomulin values below 20.7 could be outliers.\n",
      "Capomulin values above 51.83 could be outliers.\n",
      "\n",
      "The lower quartile of Ramicane is: 31.56\n",
      "The upper quartile of Ramicane is: 40.66\n",
      "The interquartile range of Ramicane: 9.1\n",
      "The median of Ramicane is: 36.56 \n",
      "Ramicane values below 17.91 could be outliers.\n",
      "Ramicane values above 54.31 could be outliers.\n",
      "\n",
      "The lower quartile of Infubinol is: 54.05\n",
      "The upper quartile of Infubinol is: 65.53\n",
      "The interquartile range of Infubinol: 11.48\n",
      "The median of Infubinol is: 60.17 \n",
      "Infubinol values below 36.83 could be outliers.\n",
      "Infubinol values above 82.74 could be outliers.\n",
      "\n",
      "The lower quartile of Ceftamin is: 48.72\n",
      "The upper quartile of Ceftamin is: 64.3\n",
      "The interquartile range of Ceftamin: 15.58\n",
      "The median of Ceftamin is: 59.85 \n",
      "Ceftamin values below 25.36 could be outliers.\n",
      "Ceftamin values above 87.67 could be outliers.\n",
      "\n"
     ]
    }
   ],
   "source": [
    "# Calculate the final tumor volume of each mouse across four of the most promising treatment regimens. Calculate the IQR and quantitatively determine if there are any potential outliers. \n",
    "\n",
    "# Determine the maximum Timepoint for each Mouse and then re-combine entire data set by Mouse ID and Timepoint\n",
    "\n",
    "grouped_mouse_data = combined_data.groupby(\"Mouse ID\").max()[\"Timepoint\"]\n",
    "final_volume = pd.DataFrame(grouped_mouse_data)\n",
    "recombined_data = pd.merge(final_volume, combined_data, how=\"left\", on=(\"Mouse ID\", \"Timepoint\"))\n",
    "\n",
    "# Capomulin Drug Treatment\n",
    "\n",
    "capomulin_treatment = recombined_data.loc[ (recombined_data[\"Drug Regimen\"] == \"Capomulin\") ,:]\n",
    "capomulin_quartiles = capomulin_treatment[\"Tumor Volume (mm3)\"].quantile([.25,.5,.75])\n",
    "capomulin_lowerq = capomulin_quartiles[.25]\n",
    "capomulin_upperq = capomulin_quartiles[0.75]\n",
    "capomulin_iqr = capomulin_upperq-capomulin_lowerq\n",
    "\n",
    "print(f\"The lower quartile of Capomulin is: {round(capomulin_lowerq,2)}\")\n",
    "print(f\"The upper quartile of Capomulin is: {round(capomulin_upperq,2)}\")\n",
    "print(f\"The interquartile range of Capomulin: {round(capomulin_iqr,2)}\")\n",
    "print(f\"The median of Capomulin is: {round(capomulin_quartiles[0.5],2)} \")\n",
    "\n",
    "capomulin_lower_bound = capomulin_lowerq - (1.5*capomulin_iqr)\n",
    "capomulin_upper_bound = capomulin_upperq + (1.5*capomulin_iqr)\n",
    "print(f\"Capomulin values below {round(capomulin_lower_bound,2)} could be outliers.\")\n",
    "print(f\"Capomulin values above {round(capomulin_upper_bound,2)} could be outliers.\")\n",
    "print()\n",
    "\n",
    "\n",
    "# Ramicane Drug Treatment\n",
    "\n",
    "ramicane_treatment = recombined_data.loc[ (recombined_data[\"Drug Regimen\"] == \"Ramicane\") ,:]\n",
    "ramicane_quartiles = ramicane_treatment[\"Tumor Volume (mm3)\"].quantile([.25,.5,.75])\n",
    "ramicane_lowerq = ramicane_quartiles[.25]\n",
    "ramicane_upperq = ramicane_quartiles[0.75]\n",
    "ramicane_iqr = ramicane_upperq-ramicane_lowerq\n",
    "\n",
    "print(f\"The lower quartile of Ramicane is: {round(ramicane_lowerq,2)}\")\n",
    "print(f\"The upper quartile of Ramicane is: {round(ramicane_upperq,2)}\")\n",
    "print(f\"The interquartile range of Ramicane: {round(ramicane_iqr,2)}\")\n",
    "print(f\"The median of Ramicane is: {round(ramicane_quartiles[0.5],2)} \")\n",
    "\n",
    "ramicane_lower_bound = ramicane_lowerq - (1.5*ramicane_iqr)\n",
    "ramicane_upper_bound = ramicane_upperq + (1.5*ramicane_iqr)\n",
    "print(f\"Ramicane values below {round(ramicane_lower_bound,2)} could be outliers.\")\n",
    "print(f\"Ramicane values above {round(ramicane_upper_bound,2)} could be outliers.\")\n",
    "print()\n",
    "\n",
    "\n",
    "# Infubinol Drug Treatment\n",
    "\n",
    "infubinol_treatment = recombined_data.loc[ (recombined_data[\"Drug Regimen\"] == \"Infubinol\") ,:]\n",
    "infubinol_quartiles = infubinol_treatment[\"Tumor Volume (mm3)\"].quantile([.25,.5,.75])\n",
    "infubinol_lowerq = infubinol_quartiles[.25]\n",
    "infubinol_upperq = infubinol_quartiles[0.75]\n",
    "infubinol_iqr = infubinol_upperq-infubinol_lowerq\n",
    "\n",
    "print(f\"The lower quartile of Infubinol is: {round(infubinol_lowerq,2)}\")\n",
    "print(f\"The upper quartile of Infubinol is: {round(infubinol_upperq,2)}\")\n",
    "print(f\"The interquartile range of Infubinol: {round(infubinol_iqr,2)}\")\n",
    "print(f\"The median of Infubinol is: {round(infubinol_quartiles[0.5],2)} \")\n",
    "\n",
    "infubinol_lower_bound = infubinol_lowerq - (1.5*infubinol_iqr)\n",
    "infubinol_upper_bound = infubinol_upperq + (1.5*infubinol_iqr)\n",
    "print(f\"Infubinol values below {round(infubinol_lower_bound,2)} could be outliers.\")\n",
    "print(f\"Infubinol values above {round(infubinol_upper_bound,2)} could be outliers.\")\n",
    "print()\n",
    "\n",
    "\n",
    "# Ceftamin Drug Treatment\n",
    "\n",
    "ceftamin_treatment = recombined_data.loc[ (recombined_data[\"Drug Regimen\"] == \"Ceftamin\") ,:]\n",
    "ceftamin_quartiles = ceftamin_treatment[\"Tumor Volume (mm3)\"].quantile([.25,.5,.75])\n",
    "ceftamin_lowerq = ceftamin_quartiles[.25]\n",
    "ceftamin_upperq = ceftamin_quartiles[0.75]\n",
    "ceftamin_iqr = ceftamin_upperq-ceftamin_lowerq\n",
    "\n",
    "print(f\"The lower quartile of Ceftamin is: {round(ceftamin_lowerq,2)}\")\n",
    "print(f\"The upper quartile of Ceftamin is: {round(ceftamin_upperq,2)}\")\n",
    "print(f\"The interquartile range of Ceftamin: {round(ceftamin_iqr,2)}\")\n",
    "print(f\"The median of Ceftamin is: {round(ceftamin_quartiles[0.5],2)} \")\n",
    "\n",
    "ceftamin_lower_bound = ceftamin_lowerq - (1.5*ceftamin_iqr)\n",
    "ceftamin_upper_bound = ceftamin_upperq + (1.5*ceftamin_iqr)\n",
    "print(f\"Ceftamin values below {round(ceftamin_lower_bound,2)} could be outliers.\")\n",
    "print(f\"Ceftamin values above {round(ceftamin_upper_bound,2)} could be outliers.\")\n",
    "print()"
   ]
  },
  {
   "cell_type": "code",
   "execution_count": 30,
   "metadata": {},
   "outputs": [
    {
     "data": {
      "image/png": "[encoded data removed]",
      "text/plain": [
       "<Figure size 432x288 with 1 Axes>"
      ]
     },
     "metadata": {
      "needs_background": "light"
     },
     "output_type": "display_data"
    }
   ],
   "source": [
    "# Generate a box plot of the final tumor volume of each mouse across four regimens of interest\n",
    "\n",
    "four_treatments = [capomulin_treatment[\"Tumor Volume (mm3)\"], ramicane_treatment[\"Tumor Volume (mm3)\"], infubinol_treatment[\"Tumor Volume (mm3)\"], ceftamin_treatment[\"Tumor Volume (mm3)\"]]\n",
    "xaxis_labels = [\"Capomulin\", \"Ramicane\", \"Infubinol\", \"Ceftamin\"]\n",
    "fig1, ax1 = plt.subplots()\n",
    "ax1.set_title(\"Final Tumor Volume of each Mouse across Four Promising Drug Treatments\")\n",
    "ax1.set_ylabel(\"Final Tumor Volume (mm3)\")\n",
    "ax1.boxplot(four_treatments, labels=xaxis_labels, showfliers=True, flierprops=dict(markerfacecolor='r', marker='o'))\n",
    "plt.show()"
   ]
  },
  {
   "cell_type": "markdown",
   "metadata": {},
   "source": [
    "## Line and scatter plots"
   ]
  },
  {
   "cell_type": "code",
   "execution_count": 9,
   "metadata": {},
   "outputs": [
    {
     "data": {
      "image/png": "[encoded data removed]",
      "text/plain": [
       "<Figure size 432x288 with 1 Axes>"
      ]
     },
     "metadata": {
      "needs_background": "light"
     },
     "output_type": "display_data"
    }
   ],
   "source": [
    "# Generate a line plot of time point versus tumor volume for a mouse treated with Capomulin\n",
    "\n",
    "regrouped_mouse_data = combined_data.groupby([\"Mouse ID\", \"Timepoint\"]).mean()[\"Tumor Volume (mm3)\"]\n",
    "mouse_dataframe = pd.DataFrame(regrouped_mouse_data)\n",
    "recombined_mouse_data = pd.merge(mouse_dataframe, combined_data, how=\"left\", on=(\"Mouse ID\", \"Timepoint\"))\n",
    "del recombined_mouse_data[\"Tumor Volume (mm3)_y\"]\n",
    "recombined_mouse_data = recombined_mouse_data.rename(columns={\"Tumor Volume (mm3)_x\": \"Tumor Volume (mm3)\"})\n",
    "\n",
    "mouse_l509_data = recombined_mouse_data.loc[(recombined_mouse_data[\"Mouse ID\"] == \"l509\") , [\"Timepoint\", \"Tumor Volume (mm3)\"]]\n",
    "\n",
    "mouse_l509_data.plot.line(x=\"Timepoint\", y=\"Tumor Volume (mm3)\", color=\"blue\", legend=None)\n",
    "plt.ylabel(\"Tumor Volume (mm3)\")\n",
    "plt.title(\"Capomulin Treatment of Mouse l509\")\n",
    "plt.show()"
   ]
  },
  {
   "cell_type": "code",
   "execution_count": 10,
   "metadata": {},
   "outputs": [
    {
     "data": {
      "image/png": "[encoded data removed]",
      "text/plain": [
       "<Figure size 432x288 with 1 Axes>"
      ]
     },
     "metadata": {
      "needs_background": "light"
     },
     "output_type": "display_data"
    }
   ],
   "source": [
    "# Generate a scatter plot of mouse weight versus average tumor volume for the Capomulin regimen\n",
    "\n",
    "grouped_weight_data = combined_data.groupby([\"Mouse ID\", \"Weight (g)\", \"Drug Regimen\"]).mean()[\"Tumor Volume (mm3)\"].reset_index()\n",
    "capomulin_weight_data = grouped_weight_data.loc[ (grouped_weight_data[\"Drug Regimen\"] == \"Capomulin\") ,:]\n",
    "plt.scatter(capomulin_weight_data[\"Weight (g)\"], capomulin_weight_data[\"Tumor Volume (mm3)\"], color=\"blue\")\n",
    "plt.xlabel(\"Weight (g)\")\n",
    "plt.ylabel(\"Average Tumor Volume (mm3)\")\n",
    "plt.title(\"Mouse Weight versus Average Tumor Volume for the Capomulin Drug Regimen\")\n",
    "plt.show()"
   ]
  },
  {
   "cell_type": "code",
   "execution_count": 16,
   "metadata": {},
   "outputs": [
    {
     "name": "stdout",
     "output_type": "stream",
     "text": [
      "The Correlation (R) between Mouse Weight and the Average Tumor Volume is: 0.84\n"
     ]
    },
    {
     "data": {
      "image/png": "[encoded data removed]",
      "text/plain": [
       "<Figure size 432x288 with 1 Axes>"
      ]
     },
     "metadata": {
      "needs_background": "light"
     },
     "output_type": "display_data"
    }
   ],
   "source": [
    "# Calculate the correlation coefficient and linear regression model for mouse weight and average tumor volume for the Capomulin regimen\n",
    "\n",
    "x_values = capomulin_weight_data[\"Weight (g)\"]\n",
    "y_values = capomulin_weight_data[\"Tumor Volume (mm3)\"]\n",
    "\n",
    "# Perform a linear regression on temperature vs. latitude\n",
    "(slope, intercept, rvalue, pvalue, stderr) = stats.linregress(x_values, y_values)\n",
    "\n",
    "# Get regression values\n",
    "regress_values = x_values * slope + intercept\n",
    "\n",
    "# Create line equation string\n",
    "line_eq = \"y = \" + str(round(slope,2)) + \"x +\" + str(round(intercept,2))\n",
    "\n",
    "# Create Plot\n",
    "plt.scatter(x_values,y_values)\n",
    "plt.plot(x_values,regress_values,\"r-\")\n",
    "\n",
    "# Label plot and annotate the line equation\n",
    "plt.xlabel(\"Weight (g)\")\n",
    "plt.ylabel(\"Tumor Volume (mm3)\")\n",
    "plt.annotate(line_eq,(20,36),fontsize=15,color=\"red\")\n",
    "\n",
    "# Print r value\n",
    "print(f\"The Correlation (R) between Mouse Weight and the Average Tumor Volume is: {round(rvalue,2)}\")\n",
    "\n",
    "# Show plot\n",
    "plt.show()"
   ]
  }
 ],
 "metadata": {
  "anaconda-cloud": {},
  "kernelspec": {
   "display_name": "Python 3",
   "language": "python",
   "name": "python3"
  },
  "language_info": {
   "codemirror_mode": {
    "name": "ipython",
    "version": 3
   },
   "file_extension": ".py",
   "mimetype": "text/x-python",
   "name": "python",
   "nbconvert_exporter": "python",
   "pygments_lexer": "ipython3",
   "version": "3.7.4"
  }
 },
 "nbformat": 4,
 "nbformat_minor": 4
}
